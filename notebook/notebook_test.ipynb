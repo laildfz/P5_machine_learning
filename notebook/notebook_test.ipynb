{
 "cells": [],
 "metadata": {
  "kernelspec": {
   "display_name": "Python 3.11.0 64-bit",
   "language": "python",
   "name": "python3"
  },
  "language_info": {
   "codemirror_mode": {
    "name": "ipython",
    "version": 2
   },
   "file_extension": ".py",
   "mimetype": "text/x-python",
   "name": "python",
   "nbconvert_exporter": "python",
   "pygments_lexer": "ipython2",
   "version": "3.11.0"
  },
  "vscode": {
   "interpreter": {
    "hash": "0a9fc5520393de83a7f52d6621ffb24ff74d759d9b38ad074dbe17a18af8c6a7"
   }
  }
 },
 "nbformat": 4,
 "nbformat_minor": 0
}
