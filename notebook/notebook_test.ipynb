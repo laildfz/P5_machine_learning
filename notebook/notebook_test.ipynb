{
 "cells": [
  {
   "cell_type": "code",
   "execution_count": 14,
   "outputs": [],
   "source": [
    "import pandas as pd\n",
    "import numpy as np"
   ],
   "metadata": {
    "collapsed": false
   }
  },
  {
   "cell_type": "code",
   "execution_count": 15,
   "outputs": [
    {
     "data": {
      "text/plain": "   index                                              Title  \\\n0      0  Unable to continue with rebase due to untracke...   \n1      1  Progressive Web App on iOS 12.2 stuck in offli...   \n2      2         __PRETTY_FUNCTION__ in constant expression   \n3      3  How to fix 'http: named cookie not present' in...   \n4      4  How can I read a file which will be upload fro...   \n\n                                                Body  \\\n0  <p>I'm currently mergin two branches using <co...   \n1  <p>I installed a custom progressive web app vi...   \n2  <p>Please refer to this snippet:</p>\\n\\n<pre><...   \n3  <p>I'm building a small dinner/plan management...   \n4  <p>I create a method in my .Net Core API which...   \n\n                                      Tags  \n0                                    <git>  \n1              <ios><progressive-web-apps>  \n2        <c++><c++17><constant-expression>  \n3        <http><go><cookies><jwt><postman>  \n4  <c#><file><upload><asp.net-core-webapi>  ",
      "text/html": "<div>\n<style scoped>\n    .dataframe tbody tr th:only-of-type {\n        vertical-align: middle;\n    }\n\n    .dataframe tbody tr th {\n        vertical-align: top;\n    }\n\n    .dataframe thead th {\n        text-align: right;\n    }\n</style>\n<table border=\"1\" class=\"dataframe\">\n  <thead>\n    <tr style=\"text-align: right;\">\n      <th></th>\n      <th>index</th>\n      <th>Title</th>\n      <th>Body</th>\n      <th>Tags</th>\n    </tr>\n  </thead>\n  <tbody>\n    <tr>\n      <th>0</th>\n      <td>0</td>\n      <td>Unable to continue with rebase due to untracke...</td>\n      <td>&lt;p&gt;I'm currently mergin two branches using &lt;co...</td>\n      <td>&lt;git&gt;</td>\n    </tr>\n    <tr>\n      <th>1</th>\n      <td>1</td>\n      <td>Progressive Web App on iOS 12.2 stuck in offli...</td>\n      <td>&lt;p&gt;I installed a custom progressive web app vi...</td>\n      <td>&lt;ios&gt;&lt;progressive-web-apps&gt;</td>\n    </tr>\n    <tr>\n      <th>2</th>\n      <td>2</td>\n      <td>__PRETTY_FUNCTION__ in constant expression</td>\n      <td>&lt;p&gt;Please refer to this snippet:&lt;/p&gt;\\n\\n&lt;pre&gt;&lt;...</td>\n      <td>&lt;c++&gt;&lt;c++17&gt;&lt;constant-expression&gt;</td>\n    </tr>\n    <tr>\n      <th>3</th>\n      <td>3</td>\n      <td>How to fix 'http: named cookie not present' in...</td>\n      <td>&lt;p&gt;I'm building a small dinner/plan management...</td>\n      <td>&lt;http&gt;&lt;go&gt;&lt;cookies&gt;&lt;jwt&gt;&lt;postman&gt;</td>\n    </tr>\n    <tr>\n      <th>4</th>\n      <td>4</td>\n      <td>How can I read a file which will be upload fro...</td>\n      <td>&lt;p&gt;I create a method in my .Net Core API which...</td>\n      <td>&lt;c#&gt;&lt;file&gt;&lt;upload&gt;&lt;asp.net-core-webapi&gt;</td>\n    </tr>\n  </tbody>\n</table>\n</div>"
     },
     "execution_count": 15,
     "metadata": {},
     "output_type": "execute_result"
    }
   ],
   "source": [
    "data = pd.read_csv(\"../data/data_not_clean.csv\")\n",
    "data = data[[\"Id\", \"Title\", \"Body\", \"Tags\"]]\n",
    "data.reset_index(inplace=True)\n",
    "data.drop(columns='Id', inplace=True)\n",
    "\n",
    "data.head()"
   ],
   "metadata": {
    "collapsed": false
   }
  },
  {
   "cell_type": "code",
   "execution_count": 15,
   "outputs": [],
   "source": [],
   "metadata": {
    "collapsed": false
   }
  }
 ],
 "metadata": {
  "kernelspec": {
   "display_name": "Python 3.11.0 64-bit",
   "language": "python",
   "name": "python3"
  },
  "language_info": {
   "codemirror_mode": {
    "name": "ipython",
    "version": 2
   },
   "file_extension": ".py",
   "mimetype": "text/x-python",
   "name": "python",
   "nbconvert_exporter": "python",
   "pygments_lexer": "ipython2",
   "version": "3.11.0"
  },
  "vscode": {
   "interpreter": {
    "hash": "0a9fc5520393de83a7f52d6621ffb24ff74d759d9b38ad074dbe17a18af8c6a7"
   }
  }
 },
 "nbformat": 4,
 "nbformat_minor": 0
}
